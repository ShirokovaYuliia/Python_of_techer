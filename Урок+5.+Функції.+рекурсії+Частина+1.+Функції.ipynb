{
 "cells": [
  {
   "cell_type": "markdown",
   "metadata": {},
   "source": [
    "# Урок 5. Функції. рекурсії\n",
    "## Частина 1. Функції\n",
    "### план\n",
    "#### Частина 1. Функції\n",
    "\n",
    "- Оголошення функції. Вбудовані функції. Виклик функції. Передача аргументів.\n",
    "- Глобальні і локальні змінні\n",
    "- Функції і незмінні типи (int, string, tuple)\n",
    "- Функції та змінні типи (list, dict, set)\n",
    "- іменовані аргументи\n",
    "- Обробка змінного числа аргументів\n",
    "- Повернення даних з функції за допомогою Return\n",
    "- Лямбда-функції\n",
    "- Генератори\n",
    "#### Частина 2. Рекурсивні функції\n",
    "1. Оголошення функції\n",
    "def <названіе_функціі> (<параметр1>, <параметр2>, ..., <параметрN>):\n",
    "\n",
    "<Оператор1>\n",
    "<Оператор2>\n",
    "....\n",
    "<ОператорN>\n",
    "return [Вираз]"
   ]
  },
  {
   "cell_type": "code",
   "execution_count": 1,
   "metadata": {},
   "outputs": [
    {
     "name": "stdout",
     "output_type": "stream",
     "text": [
      "Hi dear Andrew\n",
      "Hi dear me\n",
      "0\n"
     ]
    },
    {
     "data": {
      "text/plain": [
       "3"
      ]
     },
     "execution_count": 1,
     "metadata": {},
     "output_type": "execute_result"
    }
   ],
   "source": [
    "# Простейшая функция. Ничего не принимает в качестве аргументов и ничего не делает\n",
    "def do_nothing():\n",
    "    pass\n",
    "\n",
    "# вызов функции\n",
    "do_nothing()\n",
    "\n",
    "# Передача параметра\n",
    "def say_hi_to(name): \n",
    "    print(\"Hi dear\", name)\n",
    "    return 0\n",
    "\n",
    "name = \"Andrew\"\n",
    "var1 = \"String\"\n",
    "say_hi_to(name)\n",
    "var1 = say_hi_to(\"me\")\n",
    "print(var1)\n",
    "\n",
    "# Существует большое количество встроенных функций (bult in) \n",
    "# Больше функций на https://docs.python.org/3/library/functions.html )\n",
    "# Например функция определения длины списка\n",
    "ls = [1,2,3]\n",
    "len(ls)"
   ]
  },
  {
   "cell_type": "markdown",
   "metadata": {},
   "source": [
    "### 2. Локальні змінні\n",
    "Увага!!! Тут в зошитах IPython можна заплутатися з порядком виконання коду. Наприклад, змінна k не повинна друкуватися в функції f () нижче, але може, якщо k була опеределить в іншій клітці зошити IPython."
   ]
  },
  {
   "cell_type": "code",
   "execution_count": 2,
   "metadata": {},
   "outputs": [
    {
     "name": "stdout",
     "output_type": "stream",
     "text": [
      "Outside before f\n"
     ]
    }
   ],
   "source": [
    "# Функции имеют права на чтение к объявленным до функции переменным \n",
    "# и не имеют - к объявленным после вызова функции\n",
    "def f(): \n",
    "    print(s)\n",
    "    #s = \"Inside\" #Однако не могут их менять\n",
    "    #print(s)  #Error\n",
    "    #print(k) #Error\n",
    "    \n",
    "s = \"Outside before f\"\n",
    "f()\n",
    "k = \"Outside after f\""
   ]
  },
  {
   "cell_type": "code",
   "execution_count": 3,
   "metadata": {},
   "outputs": [
    {
     "name": "stdout",
     "output_type": "stream",
     "text": [
      "Outside\n",
      "Inside\n",
      "===========\n",
      "Outside\n"
     ]
    }
   ],
   "source": [
    "# При объявлении в функции переменной с тем же именем создается новая (внутренняя) переменная, \n",
    "# не связанная с внешней\n",
    "def f(): \n",
    "    print(k) # Так можно. Тут переменная К не объявляется\n",
    "    #print(s) #Тем не менее попытка обращения к переменной которая потом будет создана вызывает ошибку\n",
    "    s = \"Inside\" \n",
    "    print(s)\n",
    "    print(\"===========\")\n",
    "    \n",
    "k = \"Outside\"\n",
    "s = \"Outside\" \n",
    "f()\n",
    "print(s)"
   ]
  },
  {
   "cell_type": "code",
   "execution_count": 4,
   "metadata": {},
   "outputs": [
    {
     "name": "stdout",
     "output_type": "stream",
     "text": [
      "Outside\n",
      "Inside\n",
      "=======================\n",
      "Inside\n"
     ]
    }
   ],
   "source": [
    "def f():\n",
    "    global s # Для изменения внешних переменных внутри функции их надо объявить глобальной.\n",
    "    print(s)\n",
    "    s = \"Inside\"\n",
    "    print(s)\n",
    "    print(\"=======================\")\n",
    "\n",
    "\n",
    "s = \"Outside\"\n",
    "f()\n",
    "print(s)"
   ]
  },
  {
   "cell_type": "markdown",
   "metadata": {},
   "source": [
    "#### 3. Передача в функції незмінних типів (str, int, tuple, frozenset)\n",
    "Передача відбувається за значенням, тобто зовнішня змінна не залежить від внутрішньої (локальної) функції"
   ]
  },
  {
   "cell_type": "code",
   "execution_count": 5,
   "metadata": {},
   "outputs": [
    {
     "name": "stdout",
     "output_type": "stream",
     "text": [
      "Outside\n",
      "10\n",
      "Inside\n",
      "4\n",
      "=========\n",
      "Outside\n",
      "10\n"
     ]
    }
   ],
   "source": [
    "def func(arg, arg2):\n",
    "    print(arg)\n",
    "    print(arg2)\n",
    "    arg = \"Inside\"\n",
    "    arg2 = 4\n",
    "    print(arg)\n",
    "    print(arg2)\n",
    "    print(\"=========\")\n",
    "\n",
    "\n",
    "var1 = \"Outside\"\n",
    "var2 = 10\n",
    "func(var1,var2)\n",
    "print(var1) # значение переменной вне функции не изменилось\n",
    "print(var2)"
   ]
  },
  {
   "cell_type": "markdown",
   "metadata": {},
   "source": [
    "Приклад. Хочемо роздрукувати зарплати по місяцях в порядку зростання, але вихідні дані не хочемо міняти"
   ]
  },
  {
   "cell_type": "code",
   "execution_count": 6,
   "metadata": {},
   "outputs": [
    {
     "name": "stdout",
     "output_type": "stream",
     "text": [
      "1 salary is 25000\n",
      "2 salary is 30000\n",
      "3 salary is 40000\n",
      "4 salary is 42000\n"
     ]
    }
   ],
   "source": [
    "salaries = (40000, 30000, 25000, 42000)\n",
    "\n",
    "def f(salaries):\n",
    "    for (i, salary) in enumerate(sorted(salaries)):\n",
    "        print(\"{0} salary is {1}\".format(i+1, salary))\n",
    "\n",
    "f(salaries)"
   ]
  },
  {
   "cell_type": "markdown",
   "metadata": {},
   "source": [
    "#### 4. Передача в функції змінюваних типів (list, dict, set)\n",
    "Передача параметрів змінних типів відбувається за посиланням, тобто зміни в функції впливають на зовнішні змінні"
   ]
  },
  {
   "cell_type": "code",
   "execution_count": 8,
   "metadata": {},
   "outputs": [
    {
     "name": "stdout",
     "output_type": "stream",
     "text": [
      "List outside:  [10, 20, 30]\n",
      "Dict outside:  {1: 'a', 2: 'b'}\n",
      "==================\n",
      "List inside:  [10, 20, 30, [1, 2, 3, 4]]\n",
      "Dict inside:  {1: 'ccc', 2: 'b'}\n",
      "====================\n",
      "List outside:  [10, 20, 30, [1, 2, 3, 4]]\n",
      "Dict outside:  {1: 'ccc', 2: 'b'}\n"
     ]
    }
   ],
   "source": [
    "def changeme(mylist, mydict):\n",
    "    mylist.append([1, 2, 3, 4])\n",
    "    mydict[1] = \"ccc\"\n",
    "    print(\"List inside: \", mylist)\n",
    "    print(\"Dict inside: \", mydict)\n",
    "    print(\"====================\")\n",
    "\n",
    "l1 = [10, 20, 30]\n",
    "d1 = {1: \"a\", 2: \"b\"}\n",
    "print(\"List outside: \", l1)\n",
    "print(\"Dict outside: \", d1)\n",
    "print(\"==================\")\n",
    "changeme(l1, d1)\n",
    "print(\"List outside: \", l1)\n",
    "print(\"Dict outside: \", d1)"
   ]
  },
  {
   "cell_type": "markdown",
   "metadata": {},
   "source": [
    "Приклад функції, яка змінить переданий їй список:"
   ]
  },
  {
   "cell_type": "code",
   "execution_count": 9,
   "metadata": {},
   "outputs": [
    {
     "name": "stdout",
     "output_type": "stream",
     "text": [
      "salaries before calling f: [40000, 30000, 25000, 42000]\n",
      "1 salary is 25000\n",
      "2 salary is 30000\n",
      "3 salary is 40000\n",
      "4 salary is 42000\n",
      "salaries after calling f: [25000, 30000, 40000, 42000]\n"
     ]
    }
   ],
   "source": [
    "salaries = [40000, 30000, 25000, 42000]\n",
    "\n",
    "def f(salaries):\n",
    "    salaries.sort()\n",
    "    for (i, salary) in enumerate(salaries):\n",
    "        print(\"{0} salary is {1}\".format(i+1, salary))\n",
    "\n",
    "print(\"salaries before calling f: {0}\".format(salaries))\n",
    "f(salaries)\n",
    "print(\"salaries after calling f: {0}\".format(salaries))"
   ]
  },
  {
   "cell_type": "markdown",
   "metadata": {},
   "source": [
    "### 5. Іменовані аргументи"
   ]
  },
  {
   "cell_type": "code",
   "execution_count": 10,
   "metadata": {},
   "outputs": [
    {
     "name": "stdout",
     "output_type": "stream",
     "text": [
      "First name: Brian\n",
      "Last name: Kernighan\n",
      "Age: 71\n",
      "\n"
     ]
    }
   ],
   "source": [
    "def describe_person(first_name, last_name, age):\n",
    "    print(\"First name: %s\" % first_name.title())\n",
    "    print(\"Last name: %s\" % last_name.title())\n",
    "    print(\"Age: %d\\n\" % age)\n",
    "\n",
    "describe_person(age=71, first_name='brian', last_name='kernighan')"
   ]
  },
  {
   "cell_type": "markdown",
   "metadata": {},
   "source": [
    "Можна аргумент age зробити необов'язковим"
   ]
  },
  {
   "cell_type": "code",
   "execution_count": 12,
   "metadata": {},
   "outputs": [
    {
     "name": "stdout",
     "output_type": "stream",
     "text": [
      "First name: Brian\n",
      "Last name: Kernighan\n",
      "Age: 10\n",
      "\n"
     ]
    }
   ],
   "source": [
    "def describe_person(first_name, last_name, age=10):\n",
    "    print(\"First name: %s\" % first_name.title())\n",
    "    print(\"Last name: %s\" % last_name.title())\n",
    "    print(\"Age: %d\\n\" % age)\n",
    "\n",
    "describe_person(first_name='brian', last_name='kernighan')"
   ]
  },
  {
   "cell_type": "markdown",
   "metadata": {},
   "source": [
    "### 6. Змінна число аргументів"
   ]
  },
  {
   "cell_type": "code",
   "execution_count": 13,
   "metadata": {},
   "outputs": [
    {
     "name": "stdout",
     "output_type": "stream",
     "text": [
      "-- Do you have any Limburger ?\n",
      "-- I'm sorry, we're all out of Limburger\n",
      "It's very runny, sir.\n",
      "It's really very, very runny, sir.\n",
      "----------------------------------------\n",
      "client : John Cleese\n",
      "shopkeeper : Michael Palin\n",
      "sketch : Cheese Shop Sketch\n"
     ]
    }
   ],
   "source": [
    "def cheeseshop(kind, *arguments, **keywords):\n",
    "    print(\"-- Do you have any\", kind, \"?\")\n",
    "    print(\"-- I'm sorry, we're all out of\", kind)\n",
    "    for arg in arguments:\n",
    "        print(arg)\n",
    "    print(\"-\" * 40)\n",
    "    keys = sorted(keywords.keys())\n",
    "    for kw in keys:\n",
    "        print(kw, \":\", keywords[kw])\n",
    "\n",
    "cheeseshop(\"Limburger\", \"It's very runny, sir.\",\n",
    "           \"It's really very, very runny, sir.\",\n",
    "           shopkeeper=\"Michael Palin\",\n",
    "           client=\"John Cleese\",\n",
    "           sketch=\"Cheese Shop Sketch\")"
   ]
  },
  {
   "cell_type": "markdown",
   "metadata": {},
   "source": [
    "Функція, що друкує передані їй значення і відповідні аргументи:"
   ]
  },
  {
   "cell_type": "code",
   "execution_count": 14,
   "metadata": {},
   "outputs": [
    {
     "name": "stdout",
     "output_type": "stream",
     "text": [
      "{'person': 'Alex', 'lastname': 'Kollins', 'a': 2}\n",
      "person is Alex\n",
      "lastname is Kollins\n",
      "\n",
      "    prints its args and values\n",
      "    \n"
     ]
    }
   ],
   "source": [
    "def simple_print(**kwargs):\n",
    "    \"\"\"\n",
    "    prints its args and values\n",
    "    \"\"\"\n",
    "    print(kwargs)\n",
    "    if 'person' in kwargs:\n",
    "        print(\"{0} is {1}\".format('person', \n",
    "                                  kwargs['person']))\n",
    "    if 'lastname' in kwargs:\n",
    "        print(\"{0} is {1}\".format('lastname', \n",
    "                                  kwargs['lastname']))\n",
    "    if set(kwargs.keys()).difference(\n",
    "               set(['person', 'lastname'])):\n",
    "        print(simple_print.__doc__)\n",
    "    \n",
    "simple_print(person=\"Alex\", lastname=\"Kollins\", a=2)"
   ]
  },
  {
   "cell_type": "markdown",
   "metadata": {},
   "source": [
    "Приклад функції з безліччю необов'язкових аргументів:"
   ]
  },
  {
   "cell_type": "code",
   "execution_count": 15,
   "metadata": {},
   "outputs": [
    {
     "name": "stdout",
     "output_type": "stream",
     "text": [
      "Help on function simple_print in module __main__:\n",
      "\n",
      "simple_print(**kwargs)\n",
      "    prints its args and values\n",
      "\n"
     ]
    }
   ],
   "source": [
    "help(simple_print)"
   ]
  },
  {
   "cell_type": "code",
   "execution_count": 16,
   "metadata": {},
   "outputs": [
    {
     "name": "stdout",
     "output_type": "stream",
     "text": [
      "Populating the interactive namespace from numpy and matplotlib\n"
     ]
    },
    {
     "name": "stderr",
     "output_type": "stream",
     "text": [
      "C:\\Users\\XTreme.ws\\Anaconda3\\lib\\site-packages\\IPython\\core\\magics\\pylab.py:160: UserWarning: pylab import has clobbered these variables: ['f']\n",
      "`%matplotlib` prevents importing * from pylab and numpy\n",
      "  \"\\n`%matplotlib` prevents importing * from pylab and numpy\"\n"
     ]
    },
    {
     "data": {
      "text/plain": [
       "[<matplotlib.lines.Line2D at 0x20f3e572358>]"
      ]
     },
     "execution_count": 16,
     "metadata": {},
     "output_type": "execute_result"
    },
    {
     "data": {
      "image/png": "[encoded data removed]",
      "text/plain": [
       "<matplotlib.figure.Figure at 0x20f3e49b908>"
      ]
     },
     "metadata": {},
     "output_type": "display_data"
    }
   ],
   "source": [
    "%pylab inline\n",
    "# from matplotlib import pylab as plt\n",
    "from math import sin\n",
    "\n",
    "x = range(1000)\n",
    "y = [sin(i / 100) for i in x]\n",
    "\n",
    "plot(x, y)\n",
    "# plot(x, y, color=\"green\")\n",
    "# help(plot)"
   ]
  },
  {
   "cell_type": "code",
   "execution_count": 17,
   "metadata": {},
   "outputs": [
    {
     "data": {
      "text/plain": [
       "[<matplotlib.lines.Line2D at 0x20f3e6a3828>]"
      ]
     },
     "execution_count": 17,
     "metadata": {},
     "output_type": "execute_result"
    },
    {
     "data": {
      "image/png": "[encoded data removed]",
      "text/plain": [
       "<matplotlib.figure.Figure at 0x20f3e61b940>"
      ]
     },
     "metadata": {},
     "output_type": "display_data"
    }
   ],
   "source": [
    "plot(x, y, color=\"red\", linestyle='dashed')\n",
    "#help(plot)"
   ]
  },
  {
   "cell_type": "markdown",
   "metadata": {},
   "source": [
    "### 7. Повернення даних з функції за допомогою Return\n",
    "Функція може повертати що завгодно, в тому числі й іншу функцію"
   ]
  },
  {
   "cell_type": "code",
   "execution_count": 18,
   "metadata": {},
   "outputs": [
    {
     "name": "stdout",
     "output_type": "stream",
     "text": [
      "<function f1 at 0x0000020F3E6C1048>\n",
      "f1\n",
      "<function f1.<locals>.f2 at 0x0000020F3E64E378>\n",
      "f1\n",
      "Hello!\n",
      "None\n"
     ]
    }
   ],
   "source": [
    "def f1():\n",
    "    print(\"f1\")\n",
    "    def f2():\n",
    "        print(\"Hello!\")\n",
    "    return f2\n",
    "\n",
    "print(f1)\n",
    "print(f1())\n",
    "print(f1()())"
   ]
  },
  {
   "cell_type": "markdown",
   "metadata": {},
   "source": [
    "### 8. Лямбда функції"
   ]
  },
  {
   "cell_type": "code",
   "execution_count": 19,
   "metadata": {},
   "outputs": [
    {
     "name": "stdout",
     "output_type": "stream",
     "text": [
      "<function make_incrementor.<locals>.<lambda> at 0x0000020F3E64E510>\n",
      "44\n"
     ]
    }
   ],
   "source": [
    "def make_incrementor(n):\n",
    "    return lambda x: x + n\n",
    "\n",
    "f = make_incrementor(42)\n",
    "print(f)\n",
    "\n",
    "print(f(2))"
   ]
  },
  {
   "cell_type": "markdown",
   "metadata": {},
   "source": [
    "Приклад застосування однієї функції до всіх елементів списку"
   ]
  },
  {
   "cell_type": "code",
   "execution_count": 20,
   "metadata": {},
   "outputs": [
    {
     "name": "stdout",
     "output_type": "stream",
     "text": [
      "<map object at 0x0000020F3E6493C8>\n"
     ]
    },
    {
     "data": {
      "text/plain": [
       "[28250, 33900, 45200, 47460]"
      ]
     },
     "execution_count": 20,
     "metadata": {},
     "output_type": "execute_result"
    }
   ],
   "source": [
    "alaries = [40000, 30000, 25000, 42000]\n",
    "salaries_indexed = map(lambda sal: sal * 1.13, salaries)\n",
    "print(salaries_indexed)\n",
    "[round(sal) for sal in salaries_indexed]"
   ]
  },
  {
   "cell_type": "markdown",
   "metadata": {},
   "source": [
    "Приклад фільтрації списку"
   ]
  },
  {
   "cell_type": "code",
   "execution_count": 21,
   "metadata": {},
   "outputs": [
    {
     "name": "stdout",
     "output_type": "stream",
     "text": [
      "<filter object at 0x0000020F3E654EF0>\n"
     ]
    },
    {
     "data": {
      "text/plain": [
       "[40000, 42000]"
      ]
     },
     "execution_count": 21,
     "metadata": {},
     "output_type": "execute_result"
    }
   ],
   "source": [
    "salaries = [40000, 30000, 25000, 42000]\n",
    "filtered_salaries = filter(lambda sal: sal > 30000, \n",
    "                           salaries)\n",
    "print(filtered_salaries)\n",
    "[sal for sal in filtered_salaries]"
   ]
  },
  {
   "cell_type": "markdown",
   "metadata": {},
   "source": [
    "### 9. Генератор"
   ]
  },
  {
   "cell_type": "code",
   "execution_count": 22,
   "metadata": {},
   "outputs": [
    {
     "name": "stdout",
     "output_type": "stream",
     "text": [
      "45\n"
     ]
    }
   ],
   "source": [
    "def firstn(n):\n",
    "    num, nums = 0, []\n",
    "    while num < n:\n",
    "        nums.append(num)\n",
    "        num += 1\n",
    "    return nums\n",
    "\n",
    "sum_of_first_n = sum(firstn(10))\n",
    "print(sum_of_first_n)"
   ]
  },
  {
   "cell_type": "markdown",
   "metadata": {},
   "source": [
    "З скороченою нотацією списків ми вже стикалися. Таку конструкцію також називають генератором списку."
   ]
  },
  {
   "cell_type": "code",
   "execution_count": 23,
   "metadata": {},
   "outputs": [
    {
     "name": "stdout",
     "output_type": "stream",
     "text": [
      "[0, 2, 4, 6, 8, 10, 12, 14, 16, 18, 20, 22, 24, 26, 28, 30, 32, 34, 36, 38, 40, 42, 44, 46, 48, 50, 52, 54, 56, 58, 60, 62, 64, 66, 68, 70, 72, 74, 76, 78, 80, 82, 84, 86, 88, 90, 92, 94, 96, 98]\n"
     ]
    }
   ],
   "source": [
    "doubles = [2 * n for n in range(50)]\n",
    "print(doubles)"
   ]
  },
  {
   "cell_type": "markdown",
   "metadata": {},
   "source": [
    "Але бувають і вирази-генератори (синтаксис такий же, як для генератора списку, тільки дужки круглі). Це більш ефективно, ніж використання генератора списків."
   ]
  },
  {
   "cell_type": "code",
   "execution_count": 24,
   "metadata": {},
   "outputs": [
    {
     "name": "stdout",
     "output_type": "stream",
     "text": [
      "<generator object <genexpr> at 0x0000020F3E693AF0>\n",
      "1, 4, 9, "
     ]
    }
   ],
   "source": [
    "numbers = (1, 2, 3, 4, 5)\n",
    "squares_under_10 = (number * number \n",
    "                    for number in numbers \n",
    "                    if number * number < 10)\n",
    "print(squares_under_10)\n",
    "for i in squares_under_10:\n",
    "    print(i, end=', ')"
   ]
  }
 ],
 "metadata": {
  "kernelspec": {
   "display_name": "Python 3",
   "language": "python",
   "name": "python3"
  },
  "language_info": {
   "codemirror_mode": {
    "name": "ipython",
    "version": 3
   },
   "file_extension": ".py",
   "mimetype": "text/x-python",
   "name": "python",
   "nbconvert_exporter": "python",
   "pygments_lexer": "ipython3",
   "version": "3.6.2"
  }
 },
 "nbformat": 4,
 "nbformat_minor": 2
}
