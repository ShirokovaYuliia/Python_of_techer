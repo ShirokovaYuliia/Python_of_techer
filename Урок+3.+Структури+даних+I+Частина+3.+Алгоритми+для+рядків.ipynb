{
 "cells": [
  {
   "cell_type": "markdown",
   "metadata": {},
   "source": [
    "# Урок 3. Структури даних I\n",
    "## Частина 3. Алгоритми для рядків\n",
    "Одна з найпростіших завдань пошуку інформації - пошук точно заданого підрядка в рядку. Проте, це завдання надзвичайно важлива - вона застосовується в текстових редакторах, СУБД, пошукових машинах і т.д.\n",
    "\n",
    "### Точна відповідність (Naive exact matching)\n",
    "Дан текст t і зразок p (вважаємо, що | p | <| t |).\n",
    "\n",
    "#### Задача: \n",
    "знайти всі входження зразка p в текст t\n",
    "\n",
    "#### алгоритм:\n",
    "\n",
    "i = 0,\n",
    "порівняти i-й символ t з першим символом p,\n",
    "збіг -> порівняти другі символи і так далі,\n",
    "розбіжність -> i + = 1 і перехід до другого пункту\n",
    "#### Складність в гіршому випадку: O (| t | * | p |)"
   ]
  },
  {
   "cell_type": "code",
   "execution_count": 2,
   "metadata": {
    "collapsed": true
   },
   "outputs": [],
   "source": [
    "def naive_match(p, t):\n",
    "    assert len(p) <= len(t)  # assume text at least as long as pattern\n",
    "    occurrences = []\n",
    "    for i in range(0, len(t)-len(p)+1):  # for each alignment of p to t\n",
    "        match = True  # assume we match until proven wrong\n",
    "        for j in range(0, len(p)):  # for each position of p\n",
    "            if t[i+j] != p[j]:\n",
    "                match = False  # at least 1 char mismatches\n",
    "                break\n",
    "        if match:\n",
    "            occurrences.append(i)\n",
    "    return occurrences"
   ]
  },
  {
   "cell_type": "code",
   "execution_count": 3,
   "metadata": {},
   "outputs": [
    {
     "data": {
      "text/plain": [
       "[9]"
      ]
     },
     "execution_count": 3,
     "metadata": {},
     "output_type": "execute_result"
    }
   ],
   "source": [
    "t = 'I need a needle in a haystack' # \"text\" - thing we search in\n",
    "p = 'needle' # \"pattern\" - thing we search for\n",
    "naive_match(p, t)"
   ]
  },
  {
   "cell_type": "markdown",
   "metadata": {},
   "source": [
    "\n",
    "Переконаємося, що needle дійсно знайдено"
   ]
  },
  {
   "cell_type": "code",
   "execution_count": 4,
   "metadata": {},
   "outputs": [
    {
     "data": {
      "text/plain": [
       "'needle'"
      ]
     },
     "execution_count": 4,
     "metadata": {},
     "output_type": "execute_result"
    }
   ],
   "source": [
    "t[9: 9 + len(p)]"
   ]
  },
  {
   "cell_type": "code",
   "execution_count": 5,
   "metadata": {},
   "outputs": [
    {
     "data": {
      "text/plain": [
       "[0, 6, 12]"
      ]
     },
     "execution_count": 5,
     "metadata": {},
     "output_type": "execute_result"
    }
   ],
   "source": [
    "naive_match('needle', 'needleneedleneedle')"
   ]
  },
  {
   "cell_type": "markdown",
   "metadata": {},
   "source": [
    "Така складність алгоритму - недозволена розкіш для пошуку у великих текстах.\n",
    "\n",
    "Подивимося, як заміна рядки на деякий вектор може допомогти в таких завданнях як пошук підрядка і стиснення рядки.\n",
    "\n",
    "#### Z-функція\n",
    "\n",
    "Нехай дана рядок s довжини n. Тоді Z-функція ( \"зет-функція\") від цього рядка - це масив довжини n, i-ий елемент якого дорівнює найбільшому числу символів, починаючи з позиції i, співпадаючих з першими символами рядка s.\n",
    "\n",
    "Приклад: Z (abcdabscabcdabia) = [16,0,0,0,2,0,0,0,6,0,0,0,2,0,0,1]. Ще приклади і опис алгоритму на сайті [e-maxx](http://e-maxx.ru/algo/export_z_function).\n",
    "\n",
    "Нижче наведено код (опціонально)."
   ]
  },
  {
   "cell_type": "code",
   "execution_count": 6,
   "metadata": {
    "collapsed": true
   },
   "outputs": [],
   "source": [
    "def z_func(s):\n",
    "    \n",
    "    Z = [len(s)] + [0] * len(s)\n",
    "    assert len(s) > 1\n",
    "    \n",
    "    # Initial comparison of s[1:] with prefix\n",
    "    for i in range(1, len(s)):\n",
    "        if s[i] == s[i-1]:\n",
    "            Z[1] += 1\n",
    "        else:\n",
    "            break\n",
    "    \n",
    "    r, l = 0, 0\n",
    "    if Z[1] > 0:\n",
    "        r, l = Z[1], 1\n",
    "    \n",
    "    for k in range(2, len(s)):\n",
    "        assert Z[k] == 0\n",
    "        if k > r:\n",
    "            # Case 1\n",
    "            for i in range(k, len(s)):\n",
    "                if s[i] == s[i-k]:\n",
    "                    Z[k] += 1\n",
    "                else:\n",
    "                    break\n",
    "            r, l = k + Z[k] - 1, k\n",
    "        else:\n",
    "            # Case 2\n",
    "            # Calculate length of beta\n",
    "            nbeta = r - k + 1\n",
    "            Zkp = Z[k - l]\n",
    "            if nbeta > Zkp:\n",
    "                # Case 2a: Zkp wins\n",
    "                Z[k] = Zkp\n",
    "            else:\n",
    "                # Case 2b: Compare characters just past r\n",
    "                nmatch = 0\n",
    "                for i in range(r+1, len(s)):\n",
    "                    if s[i] == s[i - k]:\n",
    "                        nmatch += 1\n",
    "                    else:\n",
    "                        break\n",
    "                l, r = k, r + nmatch\n",
    "                Z[k] = r - k + 1\n",
    "    return Z"
   ]
  },
  {
   "cell_type": "code",
   "execution_count": 7,
   "metadata": {},
   "outputs": [
    {
     "data": {
      "text/plain": [
       "[11, 0, 0, 1, 0, 1, 0, 4, 0, 0, 1, 0]"
      ]
     },
     "execution_count": 7,
     "metadata": {},
     "output_type": "execute_result"
    }
   ],
   "source": [
    "z_func('abracadabra')\n",
    "#  abracadabra (11)\n",
    "#     a        (1)\n",
    "#       a      (1)\n",
    "#         abra (4)\n",
    "#            a (1)"
   ]
  },
  {
   "cell_type": "code",
   "execution_count": 8,
   "metadata": {},
   "outputs": [
    {
     "data": {
      "text/plain": [
       "[5, 4, 3, 2, 1, 0]"
      ]
     },
     "execution_count": 8,
     "metadata": {},
     "output_type": "execute_result"
    }
   ],
   "source": [
    "z_func('aaaaa')"
   ]
  },
  {
   "cell_type": "markdown",
   "metadata": {},
   "source": [
    "\n",
    "Застосування Z-функції:\n",
    "\n",
    " - Пошук підрядка в рядку\n",
    " - Кількість різних подстрок в рядку\n",
    " - Стиснення рядки\n",
    " \n",
    " #### Пошук підрядка в рядку\n",
    "Нехай t - текст, p - зразок.\n",
    "\n",
    "##### Завдання: знайти всі входження зразка p в текст t.\n",
    "\n",
    "###### Рішення:\n",
    "\n",
    "Утворити рядок s = p + $ + t, тобто до зразка пріпішем текст через символ-роздільник (який не зустрічається ніде в самих рядках).\n",
    "Порахуємо для отриманого рядка Z-функцію\n",
    "Тоді для будь-якого i в відрізку [0; length (t) -1] за відповідним значенням z [i + len (p) + 1] можна зрозуміти, чи входить зразок p в текст t, починаючи з позиції i: якщо це значення Z-функції одно length (p), то да, входить, інакше - немає.\n",
    "Складність: O (len (p) + len (t))\n",
    "\n",
    "код"
   ]
  },
  {
   "cell_type": "code",
   "execution_count": 9,
   "metadata": {
    "collapsed": true
   },
   "outputs": [],
   "source": [
    "def zMatch(p, t):\n",
    "    s = p + \"$\" + t\n",
    "    Z = z_func(s)\n",
    "    occurrences = []\n",
    "    for i in range(len(p) + 1, len(s)):\n",
    "        if Z[i] == len(p):\n",
    "            occurrences.append(i - (len(p) + 1))\n",
    "    return occurrences"
   ]
  },
  {
   "cell_type": "markdown",
   "metadata": {},
   "source": [
    "\n",
    "Ілюстрація: Текст \"lambalambalam\", шукаємо в ньому \"lamb\""
   ]
  },
  {
   "cell_type": "code",
   "execution_count": 12,
   "metadata": {},
   "outputs": [
    {
     "name": "stdout",
     "output_type": "stream",
     "text": [
      "[18, 0, 0, 0, 0, 4, 0, 0, 0, 0, 4, 0, 0, 0, 0, 3, 0, 0, 0]\n"
     ]
    }
   ],
   "source": [
    "t, p = \"lambalambalam\", \"lamb\"\n",
    "calculated_z = z_func(\"lamb$lambalambalam\")\n",
    "print(calculated_z)"
   ]
  },
  {
   "cell_type": "markdown",
   "metadata": {},
   "source": [
    "Для першого індексу є входження:"
   ]
  },
  {
   "cell_type": "code",
   "execution_count": 14,
   "metadata": {},
   "outputs": [
    {
     "name": "stdout",
     "output_type": "stream",
     "text": [
      "4 4\n"
     ]
    }
   ],
   "source": [
    "print(len(p), calculated_z[0 + len(p) + 1])"
   ]
  },
  {
   "cell_type": "markdown",
   "metadata": {},
   "source": [
    "\n",
    "Для другого - немає:"
   ]
  },
  {
   "cell_type": "code",
   "execution_count": 15,
   "metadata": {},
   "outputs": [
    {
     "name": "stdout",
     "output_type": "stream",
     "text": [
      "4 0\n"
     ]
    }
   ],
   "source": [
    "print(len(p), calculated_z[1 + len(p) + 1])"
   ]
  },
  {
   "cell_type": "code",
   "execution_count": 16,
   "metadata": {},
   "outputs": [
    {
     "data": {
      "text/plain": [
       "[0, 5]"
      ]
     },
     "execution_count": 16,
     "metadata": {},
     "output_type": "execute_result"
    }
   ],
   "source": [
    "zMatch(\"lamb\", \"lambalambalam\")"
   ]
  },
  {
   "cell_type": "markdown",
   "metadata": {},
   "source": [
    "\n",
    "ще приклади"
   ]
  },
  {
   "cell_type": "code",
   "execution_count": 17,
   "metadata": {},
   "outputs": [
    {
     "name": "stdout",
     "output_type": "stream",
     "text": [
      "[31, 0, 0, 0, 0, 0, 0, 0, 0, 0, 0, 0, 0, 0, 0, 0, 6, 0, 0, 0, 0, 0, 0, 0, 0, 0, 0, 0, 0, 0, 0, 0]\n"
     ]
    },
    {
     "data": {
      "text/plain": [
       "[9]"
      ]
     },
     "execution_count": 17,
     "metadata": {},
     "output_type": "execute_result"
    }
   ],
   "source": [
    "t, p = 'haystack needle haystack', 'needle'\n",
    "print(z_func(p + '$' + t))\n",
    "zMatch('needle', 'haystack needle haystack')"
   ]
  },
  {
   "cell_type": "code",
   "execution_count": 18,
   "metadata": {},
   "outputs": [
    {
     "name": "stdout",
     "output_type": "stream",
     "text": [
      "[29, 0, 0, 0, 0, 0, 0, 0, 0, 0, 0, 0, 0, 0, 0, 0, 6, 0, 0, 0, 0, 0, 0, 6, 0, 0, 0, 0, 0, 0]\n"
     ]
    },
    {
     "data": {
      "text/plain": [
       "[9, 16]"
      ]
     },
     "execution_count": 18,
     "metadata": {},
     "output_type": "execute_result"
    }
   ],
   "source": [
    "t, p = 'haystack needle needle', 'needle'\n",
    "print(z_func(p + '$' + t))\n",
    "zMatch('needle', 'haystack needle needle')"
   ]
  },
  {
   "cell_type": "markdown",
   "metadata": {},
   "source": [
    "стиснення рядки\n",
    "Дана рядок s довжини n.\n",
    "\n",
    "Завдання: знайти найкоротший її \"стислий\" уявлення, тобто знайти такий рядок t найменшої довжини, що s можна представити у вигляді конкатенації однієї або декількох копій t."
   ]
  }
 ],
 "metadata": {
  "kernelspec": {
   "display_name": "Python 3",
   "language": "python",
   "name": "python3"
  },
  "language_info": {
   "codemirror_mode": {
    "name": "ipython",
    "version": 3
   },
   "file_extension": ".py",
   "mimetype": "text/x-python",
   "name": "python",
   "nbconvert_exporter": "python",
   "pygments_lexer": "ipython3",
   "version": "3.6.2"
  }
 },
 "nbformat": 4,
 "nbformat_minor": 2
}
